{
 "cells": [
  {
   "cell_type": "code",
   "execution_count": 1,
   "metadata": {},
   "outputs": [],
   "source": [
    "import sys\n",
    "import os\n",
    "sys.path.append(os.path.abspath('../..')) # include top level package in python path"
   ]
  },
  {
   "cell_type": "code",
   "execution_count": 2,
   "metadata": {},
   "outputs": [],
   "source": [
    "import torch\n",
    "from comparison.examples.vae_toy import VAE_Toy\n",
    "from comparison.loss import ELBO_loss, IWAE_loss\n",
    "from tqdm.notebook import tqdm"
   ]
  },
  {
   "cell_type": "code",
   "execution_count": 3,
   "metadata": {},
   "outputs": [],
   "source": [
    "# Change device as needed. \n",
    "# CPU is supported on all machines, CUDA for specific GPUs.\n",
    "\n",
    "# device = 'cpu'\n",
    "device = 'cuda'"
   ]
  },
  {
   "cell_type": "code",
   "execution_count": 4,
   "metadata": {},
   "outputs": [],
   "source": [
    "def train(model, optim, dataloader, no_epochs=3):\n",
    "    model.train()\n",
    "    \n",
    "    train_loss = []\n",
    "    for epoch in range(1, no_epochs + 1):\n",
    "        for xs in tqdm(dataloader, desc=\"Training Epoch №%s\" % epoch, leave=False):\n",
    "            xs = xs.to(device)\n",
    "            vae_res = model(xs, M=10, K=10)\n",
    "            loss = -ELBO_loss(vae_res)\n",
    "            train_loss.append(loss.item())\n",
    "\n",
    "            optim.zero_grad()\n",
    "            loss.backward()\n",
    "            optim.step()\n",
    "\n",
    "    return torch.Tensor(train_loss)"
   ]
  },
  {
   "cell_type": "code",
   "execution_count": 5,
   "metadata": {},
   "outputs": [],
   "source": [
    "model = VAE_Toy(D=20).to(device)\n",
    "optim = torch.optim.Adam(model.parameters(), lr=1e-2)"
   ]
  },
  {
   "cell_type": "code",
   "execution_count": 6,
   "metadata": {},
   "outputs": [],
   "source": [
    "from torch.utils.data import Dataset, DataLoader\n",
    "\n",
    "class DistDataset(Dataset):\n",
    "    def __init__(self, dist, N, device=device):\n",
    "        self.samples = dist.sample(torch.Size([N])).to(device)\n",
    "\n",
    "    def __len__(self):\n",
    "        return self.samples.size(dim=0)\n",
    "\n",
    "    def __getitem__(self, idx):\n",
    "        return self.samples[idx]"
   ]
  },
  {
   "cell_type": "code",
   "execution_count": 7,
   "metadata": {},
   "outputs": [],
   "source": [
    "ds = DistDataset(torch.distributions.normal.Normal(torch.zeros(20) + 2., torch.ones(20)), 1024)"
   ]
  },
  {
   "cell_type": "code",
   "execution_count": 8,
   "metadata": {},
   "outputs": [],
   "source": [
    "train_loader = DataLoader(ds, batch_size=128, shuffle=True)"
   ]
  },
  {
   "cell_type": "code",
   "execution_count": 9,
   "metadata": {},
   "outputs": [
    {
     "data": {
      "application/vnd.jupyter.widget-view+json": {
       "model_id": "",
       "version_major": 2,
       "version_minor": 0
      },
      "text/plain": [
       "HBox(children=(HTML(value='Training Epoch №1'), FloatProgress(value=0.0, max=8.0), HTML(value='')))"
      ]
     },
     "metadata": {},
     "output_type": "display_data"
    },
    {
     "data": {
      "application/vnd.jupyter.widget-view+json": {
       "model_id": "",
       "version_major": 2,
       "version_minor": 0
      },
      "text/plain": [
       "HBox(children=(HTML(value='Training Epoch №2'), FloatProgress(value=0.0, max=8.0), HTML(value='')))"
      ]
     },
     "metadata": {},
     "output_type": "display_data"
    },
    {
     "data": {
      "application/vnd.jupyter.widget-view+json": {
       "model_id": "",
       "version_major": 2,
       "version_minor": 0
      },
      "text/plain": [
       "HBox(children=(HTML(value='Training Epoch №3'), FloatProgress(value=0.0, max=8.0), HTML(value='')))"
      ]
     },
     "metadata": {},
     "output_type": "display_data"
    },
    {
     "data": {
      "application/vnd.jupyter.widget-view+json": {
       "model_id": "",
       "version_major": 2,
       "version_minor": 0
      },
      "text/plain": [
       "HBox(children=(HTML(value='Training Epoch №4'), FloatProgress(value=0.0, max=8.0), HTML(value='')))"
      ]
     },
     "metadata": {},
     "output_type": "display_data"
    },
    {
     "data": {
      "application/vnd.jupyter.widget-view+json": {
       "model_id": "",
       "version_major": 2,
       "version_minor": 0
      },
      "text/plain": [
       "HBox(children=(HTML(value='Training Epoch №5'), FloatProgress(value=0.0, max=8.0), HTML(value='')))"
      ]
     },
     "metadata": {},
     "output_type": "display_data"
    },
    {
     "data": {
      "application/vnd.jupyter.widget-view+json": {
       "model_id": "",
       "version_major": 2,
       "version_minor": 0
      },
      "text/plain": [
       "HBox(children=(HTML(value='Training Epoch №6'), FloatProgress(value=0.0, max=8.0), HTML(value='')))"
      ]
     },
     "metadata": {},
     "output_type": "display_data"
    },
    {
     "data": {
      "application/vnd.jupyter.widget-view+json": {
       "model_id": "",
       "version_major": 2,
       "version_minor": 0
      },
      "text/plain": [
       "HBox(children=(HTML(value='Training Epoch №7'), FloatProgress(value=0.0, max=8.0), HTML(value='')))"
      ]
     },
     "metadata": {},
     "output_type": "display_data"
    },
    {
     "data": {
      "application/vnd.jupyter.widget-view+json": {
       "model_id": "",
       "version_major": 2,
       "version_minor": 0
      },
      "text/plain": [
       "HBox(children=(HTML(value='Training Epoch №8'), FloatProgress(value=0.0, max=8.0), HTML(value='')))"
      ]
     },
     "metadata": {},
     "output_type": "display_data"
    },
    {
     "data": {
      "application/vnd.jupyter.widget-view+json": {
       "model_id": "",
       "version_major": 2,
       "version_minor": 0
      },
      "text/plain": [
       "HBox(children=(HTML(value='Training Epoch №9'), FloatProgress(value=0.0, max=8.0), HTML(value='')))"
      ]
     },
     "metadata": {},
     "output_type": "display_data"
    },
    {
     "data": {
      "application/vnd.jupyter.widget-view+json": {
       "model_id": "",
       "version_major": 2,
       "version_minor": 0
      },
      "text/plain": [
       "HBox(children=(HTML(value='Training Epoch №10'), FloatProgress(value=0.0, max=8.0), HTML(value='')))"
      ]
     },
     "metadata": {},
     "output_type": "display_data"
    },
    {
     "data": {
      "application/vnd.jupyter.widget-view+json": {
       "model_id": "",
       "version_major": 2,
       "version_minor": 0
      },
      "text/plain": [
       "HBox(children=(HTML(value='Training Epoch №11'), FloatProgress(value=0.0, max=8.0), HTML(value='')))"
      ]
     },
     "metadata": {},
     "output_type": "display_data"
    },
    {
     "data": {
      "application/vnd.jupyter.widget-view+json": {
       "model_id": "",
       "version_major": 2,
       "version_minor": 0
      },
      "text/plain": [
       "HBox(children=(HTML(value='Training Epoch №12'), FloatProgress(value=0.0, max=8.0), HTML(value='')))"
      ]
     },
     "metadata": {},
     "output_type": "display_data"
    },
    {
     "data": {
      "application/vnd.jupyter.widget-view+json": {
       "model_id": "",
       "version_major": 2,
       "version_minor": 0
      },
      "text/plain": [
       "HBox(children=(HTML(value='Training Epoch №13'), FloatProgress(value=0.0, max=8.0), HTML(value='')))"
      ]
     },
     "metadata": {},
     "output_type": "display_data"
    },
    {
     "data": {
      "application/vnd.jupyter.widget-view+json": {
       "model_id": "",
       "version_major": 2,
       "version_minor": 0
      },
      "text/plain": [
       "HBox(children=(HTML(value='Training Epoch №14'), FloatProgress(value=0.0, max=8.0), HTML(value='')))"
      ]
     },
     "metadata": {},
     "output_type": "display_data"
    },
    {
     "data": {
      "application/vnd.jupyter.widget-view+json": {
       "model_id": "",
       "version_major": 2,
       "version_minor": 0
      },
      "text/plain": [
       "HBox(children=(HTML(value='Training Epoch №15'), FloatProgress(value=0.0, max=8.0), HTML(value='')))"
      ]
     },
     "metadata": {},
     "output_type": "display_data"
    },
    {
     "data": {
      "application/vnd.jupyter.widget-view+json": {
       "model_id": "",
       "version_major": 2,
       "version_minor": 0
      },
      "text/plain": [
       "HBox(children=(HTML(value='Training Epoch №16'), FloatProgress(value=0.0, max=8.0), HTML(value='')))"
      ]
     },
     "metadata": {},
     "output_type": "display_data"
    },
    {
     "data": {
      "application/vnd.jupyter.widget-view+json": {
       "model_id": "",
       "version_major": 2,
       "version_minor": 0
      },
      "text/plain": [
       "HBox(children=(HTML(value='Training Epoch №17'), FloatProgress(value=0.0, max=8.0), HTML(value='')))"
      ]
     },
     "metadata": {},
     "output_type": "display_data"
    },
    {
     "data": {
      "application/vnd.jupyter.widget-view+json": {
       "model_id": "",
       "version_major": 2,
       "version_minor": 0
      },
      "text/plain": [
       "HBox(children=(HTML(value='Training Epoch №18'), FloatProgress(value=0.0, max=8.0), HTML(value='')))"
      ]
     },
     "metadata": {},
     "output_type": "display_data"
    },
    {
     "data": {
      "application/vnd.jupyter.widget-view+json": {
       "model_id": "",
       "version_major": 2,
       "version_minor": 0
      },
      "text/plain": [
       "HBox(children=(HTML(value='Training Epoch №19'), FloatProgress(value=0.0, max=8.0), HTML(value='')))"
      ]
     },
     "metadata": {},
     "output_type": "display_data"
    },
    {
     "data": {
      "application/vnd.jupyter.widget-view+json": {
       "model_id": "",
       "version_major": 2,
       "version_minor": 0
      },
      "text/plain": [
       "HBox(children=(HTML(value='Training Epoch №20'), FloatProgress(value=0.0, max=8.0), HTML(value='')))"
      ]
     },
     "metadata": {},
     "output_type": "display_data"
    },
    {
     "data": {
      "application/vnd.jupyter.widget-view+json": {
       "model_id": "",
       "version_major": 2,
       "version_minor": 0
      },
      "text/plain": [
       "HBox(children=(HTML(value='Training Epoch №21'), FloatProgress(value=0.0, max=8.0), HTML(value='')))"
      ]
     },
     "metadata": {},
     "output_type": "display_data"
    },
    {
     "data": {
      "application/vnd.jupyter.widget-view+json": {
       "model_id": "",
       "version_major": 2,
       "version_minor": 0
      },
      "text/plain": [
       "HBox(children=(HTML(value='Training Epoch №22'), FloatProgress(value=0.0, max=8.0), HTML(value='')))"
      ]
     },
     "metadata": {},
     "output_type": "display_data"
    },
    {
     "data": {
      "application/vnd.jupyter.widget-view+json": {
       "model_id": "",
       "version_major": 2,
       "version_minor": 0
      },
      "text/plain": [
       "HBox(children=(HTML(value='Training Epoch №23'), FloatProgress(value=0.0, max=8.0), HTML(value='')))"
      ]
     },
     "metadata": {},
     "output_type": "display_data"
    },
    {
     "data": {
      "application/vnd.jupyter.widget-view+json": {
       "model_id": "",
       "version_major": 2,
       "version_minor": 0
      },
      "text/plain": [
       "HBox(children=(HTML(value='Training Epoch №24'), FloatProgress(value=0.0, max=8.0), HTML(value='')))"
      ]
     },
     "metadata": {},
     "output_type": "display_data"
    },
    {
     "data": {
      "application/vnd.jupyter.widget-view+json": {
       "model_id": "",
       "version_major": 2,
       "version_minor": 0
      },
      "text/plain": [
       "HBox(children=(HTML(value='Training Epoch №25'), FloatProgress(value=0.0, max=8.0), HTML(value='')))"
      ]
     },
     "metadata": {},
     "output_type": "display_data"
    },
    {
     "data": {
      "application/vnd.jupyter.widget-view+json": {
       "model_id": "",
       "version_major": 2,
       "version_minor": 0
      },
      "text/plain": [
       "HBox(children=(HTML(value='Training Epoch №26'), FloatProgress(value=0.0, max=8.0), HTML(value='')))"
      ]
     },
     "metadata": {},
     "output_type": "display_data"
    },
    {
     "data": {
      "application/vnd.jupyter.widget-view+json": {
       "model_id": "",
       "version_major": 2,
       "version_minor": 0
      },
      "text/plain": [
       "HBox(children=(HTML(value='Training Epoch №27'), FloatProgress(value=0.0, max=8.0), HTML(value='')))"
      ]
     },
     "metadata": {},
     "output_type": "display_data"
    },
    {
     "data": {
      "application/vnd.jupyter.widget-view+json": {
       "model_id": "",
       "version_major": 2,
       "version_minor": 0
      },
      "text/plain": [
       "HBox(children=(HTML(value='Training Epoch №28'), FloatProgress(value=0.0, max=8.0), HTML(value='')))"
      ]
     },
     "metadata": {},
     "output_type": "display_data"
    },
    {
     "data": {
      "application/vnd.jupyter.widget-view+json": {
       "model_id": "",
       "version_major": 2,
       "version_minor": 0
      },
      "text/plain": [
       "HBox(children=(HTML(value='Training Epoch №29'), FloatProgress(value=0.0, max=8.0), HTML(value='')))"
      ]
     },
     "metadata": {},
     "output_type": "display_data"
    },
    {
     "data": {
      "application/vnd.jupyter.widget-view+json": {
       "model_id": "",
       "version_major": 2,
       "version_minor": 0
      },
      "text/plain": [
       "HBox(children=(HTML(value='Training Epoch №30'), FloatProgress(value=0.0, max=8.0), HTML(value='')))"
      ]
     },
     "metadata": {},
     "output_type": "display_data"
    },
    {
     "data": {
      "application/vnd.jupyter.widget-view+json": {
       "model_id": "",
       "version_major": 2,
       "version_minor": 0
      },
      "text/plain": [
       "HBox(children=(HTML(value='Training Epoch №31'), FloatProgress(value=0.0, max=8.0), HTML(value='')))"
      ]
     },
     "metadata": {},
     "output_type": "display_data"
    },
    {
     "data": {
      "application/vnd.jupyter.widget-view+json": {
       "model_id": "",
       "version_major": 2,
       "version_minor": 0
      },
      "text/plain": [
       "HBox(children=(HTML(value='Training Epoch №32'), FloatProgress(value=0.0, max=8.0), HTML(value='')))"
      ]
     },
     "metadata": {},
     "output_type": "display_data"
    },
    {
     "data": {
      "application/vnd.jupyter.widget-view+json": {
       "model_id": "",
       "version_major": 2,
       "version_minor": 0
      },
      "text/plain": [
       "HBox(children=(HTML(value='Training Epoch №33'), FloatProgress(value=0.0, max=8.0), HTML(value='')))"
      ]
     },
     "metadata": {},
     "output_type": "display_data"
    },
    {
     "data": {
      "application/vnd.jupyter.widget-view+json": {
       "model_id": "",
       "version_major": 2,
       "version_minor": 0
      },
      "text/plain": [
       "HBox(children=(HTML(value='Training Epoch №34'), FloatProgress(value=0.0, max=8.0), HTML(value='')))"
      ]
     },
     "metadata": {},
     "output_type": "display_data"
    },
    {
     "data": {
      "application/vnd.jupyter.widget-view+json": {
       "model_id": "",
       "version_major": 2,
       "version_minor": 0
      },
      "text/plain": [
       "HBox(children=(HTML(value='Training Epoch №35'), FloatProgress(value=0.0, max=8.0), HTML(value='')))"
      ]
     },
     "metadata": {},
     "output_type": "display_data"
    },
    {
     "data": {
      "application/vnd.jupyter.widget-view+json": {
       "model_id": "",
       "version_major": 2,
       "version_minor": 0
      },
      "text/plain": [
       "HBox(children=(HTML(value='Training Epoch №36'), FloatProgress(value=0.0, max=8.0), HTML(value='')))"
      ]
     },
     "metadata": {},
     "output_type": "display_data"
    },
    {
     "data": {
      "application/vnd.jupyter.widget-view+json": {
       "model_id": "",
       "version_major": 2,
       "version_minor": 0
      },
      "text/plain": [
       "HBox(children=(HTML(value='Training Epoch №37'), FloatProgress(value=0.0, max=8.0), HTML(value='')))"
      ]
     },
     "metadata": {},
     "output_type": "display_data"
    },
    {
     "data": {
      "application/vnd.jupyter.widget-view+json": {
       "model_id": "",
       "version_major": 2,
       "version_minor": 0
      },
      "text/plain": [
       "HBox(children=(HTML(value='Training Epoch №38'), FloatProgress(value=0.0, max=8.0), HTML(value='')))"
      ]
     },
     "metadata": {},
     "output_type": "display_data"
    },
    {
     "data": {
      "application/vnd.jupyter.widget-view+json": {
       "model_id": "",
       "version_major": 2,
       "version_minor": 0
      },
      "text/plain": [
       "HBox(children=(HTML(value='Training Epoch №39'), FloatProgress(value=0.0, max=8.0), HTML(value='')))"
      ]
     },
     "metadata": {},
     "output_type": "display_data"
    },
    {
     "data": {
      "application/vnd.jupyter.widget-view+json": {
       "model_id": "",
       "version_major": 2,
       "version_minor": 0
      },
      "text/plain": [
       "HBox(children=(HTML(value='Training Epoch №40'), FloatProgress(value=0.0, max=8.0), HTML(value='')))"
      ]
     },
     "metadata": {},
     "output_type": "display_data"
    },
    {
     "data": {
      "application/vnd.jupyter.widget-view+json": {
       "model_id": "",
       "version_major": 2,
       "version_minor": 0
      },
      "text/plain": [
       "HBox(children=(HTML(value='Training Epoch №41'), FloatProgress(value=0.0, max=8.0), HTML(value='')))"
      ]
     },
     "metadata": {},
     "output_type": "display_data"
    },
    {
     "data": {
      "application/vnd.jupyter.widget-view+json": {
       "model_id": "",
       "version_major": 2,
       "version_minor": 0
      },
      "text/plain": [
       "HBox(children=(HTML(value='Training Epoch №42'), FloatProgress(value=0.0, max=8.0), HTML(value='')))"
      ]
     },
     "metadata": {},
     "output_type": "display_data"
    },
    {
     "data": {
      "application/vnd.jupyter.widget-view+json": {
       "model_id": "",
       "version_major": 2,
       "version_minor": 0
      },
      "text/plain": [
       "HBox(children=(HTML(value='Training Epoch №43'), FloatProgress(value=0.0, max=8.0), HTML(value='')))"
      ]
     },
     "metadata": {},
     "output_type": "display_data"
    },
    {
     "data": {
      "application/vnd.jupyter.widget-view+json": {
       "model_id": "",
       "version_major": 2,
       "version_minor": 0
      },
      "text/plain": [
       "HBox(children=(HTML(value='Training Epoch №44'), FloatProgress(value=0.0, max=8.0), HTML(value='')))"
      ]
     },
     "metadata": {},
     "output_type": "display_data"
    },
    {
     "data": {
      "application/vnd.jupyter.widget-view+json": {
       "model_id": "",
       "version_major": 2,
       "version_minor": 0
      },
      "text/plain": [
       "HBox(children=(HTML(value='Training Epoch №45'), FloatProgress(value=0.0, max=8.0), HTML(value='')))"
      ]
     },
     "metadata": {},
     "output_type": "display_data"
    },
    {
     "data": {
      "application/vnd.jupyter.widget-view+json": {
       "model_id": "",
       "version_major": 2,
       "version_minor": 0
      },
      "text/plain": [
       "HBox(children=(HTML(value='Training Epoch №46'), FloatProgress(value=0.0, max=8.0), HTML(value='')))"
      ]
     },
     "metadata": {},
     "output_type": "display_data"
    },
    {
     "data": {
      "application/vnd.jupyter.widget-view+json": {
       "model_id": "",
       "version_major": 2,
       "version_minor": 0
      },
      "text/plain": [
       "HBox(children=(HTML(value='Training Epoch №47'), FloatProgress(value=0.0, max=8.0), HTML(value='')))"
      ]
     },
     "metadata": {},
     "output_type": "display_data"
    },
    {
     "data": {
      "application/vnd.jupyter.widget-view+json": {
       "model_id": "",
       "version_major": 2,
       "version_minor": 0
      },
      "text/plain": [
       "HBox(children=(HTML(value='Training Epoch №48'), FloatProgress(value=0.0, max=8.0), HTML(value='')))"
      ]
     },
     "metadata": {},
     "output_type": "display_data"
    },
    {
     "data": {
      "application/vnd.jupyter.widget-view+json": {
       "model_id": "",
       "version_major": 2,
       "version_minor": 0
      },
      "text/plain": [
       "HBox(children=(HTML(value='Training Epoch №49'), FloatProgress(value=0.0, max=8.0), HTML(value='')))"
      ]
     },
     "metadata": {},
     "output_type": "display_data"
    },
    {
     "data": {
      "application/vnd.jupyter.widget-view+json": {
       "model_id": "",
       "version_major": 2,
       "version_minor": 0
      },
      "text/plain": [
       "HBox(children=(HTML(value='Training Epoch №50'), FloatProgress(value=0.0, max=8.0), HTML(value='')))"
      ]
     },
     "metadata": {},
     "output_type": "display_data"
    }
   ],
   "source": [
    "losses = train(model, optim, train_loader, 50)"
   ]
  },
  {
   "cell_type": "code",
   "execution_count": 10,
   "metadata": {},
   "outputs": [
    {
     "data": {
      "text/plain": [
       "Parameter containing:\n",
       "tensor([1.9081, 1.9818, 1.9827, 1.9891, 2.0548, 1.9647, 1.9790, 1.9831, 1.9217,\n",
       "        1.9977, 1.9496, 1.9592, 1.9246, 1.9956, 1.9651, 1.9955, 1.9751, 1.9232,\n",
       "        2.0173, 1.9750], device='cuda:0', requires_grad=True)"
      ]
     },
     "execution_count": 10,
     "metadata": {},
     "output_type": "execute_result"
    }
   ],
   "source": [
    "model.mu"
   ]
  },
  {
   "cell_type": "code",
   "execution_count": 11,
   "metadata": {},
   "outputs": [
    {
     "data": {
      "text/plain": [
       "[Parameter containing:\n",
       " tensor([[ 9.6093e-01, -1.3150e-03, -5.5816e-03,  9.8870e-04, -4.1463e-03,\n",
       "          -3.1046e-03, -7.0589e-04, -9.5817e-09, -3.6242e-03, -4.3319e-03,\n",
       "           3.6244e-04,  1.7034e-03,  2.9677e-03, -4.1957e-03, -4.2937e-04,\n",
       "           5.1100e-03,  3.0400e-03,  6.1590e-04,  1.6072e-03, -5.6244e-04],\n",
       "         [-4.0649e-03,  9.8082e-01, -5.0906e-03, -5.8679e-03, -6.3040e-03,\n",
       "          -4.4381e-03, -4.8408e-03, -3.3975e-03, -6.1251e-03, -4.8416e-03,\n",
       "          -5.6965e-03, -2.5769e-03, -5.5868e-03, -5.3064e-03, -4.5552e-03,\n",
       "          -4.0222e-03, -5.1408e-03, -4.9459e-03, -5.5769e-03, -2.5347e-03],\n",
       "         [-5.5125e-03, -7.0413e-03,  9.8458e-01, -5.2460e-03, -5.3756e-03,\n",
       "          -4.8993e-03, -5.6398e-03, -3.4509e-03, -4.2066e-03, -5.6838e-03,\n",
       "          -6.2285e-03, -3.1021e-03, -7.4437e-03, -6.1380e-03, -5.4215e-03,\n",
       "          -5.2962e-03, -3.9425e-03, -6.7069e-03, -4.4522e-03, -2.7336e-03],\n",
       "         [-1.8260e-03, -2.4514e-02,  1.2260e-02,  9.3172e-01, -1.5262e-02,\n",
       "           1.9291e-03,  3.8831e-03, -1.0525e-02, -1.1698e-02,  5.3779e-03,\n",
       "          -5.9372e-03, -8.2670e-03,  5.2936e-03, -4.5396e-03,  1.7499e-02,\n",
       "           5.8118e-03, -1.1988e-02, -3.4787e-03, -7.7354e-03, -6.7097e-03],\n",
       "         [-5.1969e-03, -8.4863e-03, -2.5776e-03, -8.4325e-04,  9.5174e-01,\n",
       "           9.0980e-04, -2.5450e-03, -3.0311e-03, -1.2587e-03,  1.1670e-03,\n",
       "          -3.8149e-03, -1.4143e-03, -2.2138e-03,  2.9738e-03,  6.3534e-03,\n",
       "          -1.3799e-03, -2.0509e-03,  3.3218e-03, -3.1951e-03,  2.2678e-03],\n",
       "         [-4.0446e-03, -6.4072e-03, -6.5412e-03, -6.0378e-03, -4.6834e-03,\n",
       "           9.8293e-01, -6.2820e-03, -4.7496e-03, -4.5950e-03, -4.1450e-03,\n",
       "          -5.4515e-03, -4.4708e-03, -7.0993e-03, -5.5994e-03, -5.4796e-03,\n",
       "          -4.1719e-03, -6.0897e-03, -5.4383e-03, -4.9147e-03, -3.7814e-03],\n",
       "         [-3.4991e-03, -9.0051e-03, -7.5748e-03, -5.0154e-03, -5.3564e-03,\n",
       "          -3.7878e-03,  9.8048e-01, -3.2639e-03, -4.5064e-03, -5.9442e-03,\n",
       "          -5.5018e-03, -3.2426e-03, -7.1471e-03, -5.7554e-03, -5.6994e-03,\n",
       "          -4.9297e-03, -6.0412e-03, -5.6075e-03, -6.5465e-03, -3.3672e-03],\n",
       "         [-2.2266e-03, -6.6708e-03, -8.9444e-03, -5.1289e-03, -4.9006e-03,\n",
       "          -4.1918e-04,  2.9276e-04,  9.4397e-01,  5.7431e-03,  5.1814e-04,\n",
       "          -5.4065e-03, -4.4133e-03, -1.3526e-03, -7.6297e-03,  9.8799e-04,\n",
       "           6.7351e-05, -1.0084e-02,  1.1394e-03, -3.6572e-03,  1.9838e-03],\n",
       "         [-1.9201e-03, -1.7869e-03, -3.8752e-04, -3.6873e-04, -2.0079e-03,\n",
       "          -2.3206e-03, -1.7325e-03, -3.0254e-03,  9.9125e-01, -1.5556e-03,\n",
       "          -2.0603e-03, -1.1399e-03, -1.5035e-03, -2.6822e-03, -6.2043e-04,\n",
       "          -1.3518e-03, -1.6722e-04, -3.5703e-04, -2.0675e-03, -9.0060e-04],\n",
       "         [ 2.0222e-03,  1.1162e-03,  9.9575e-04,  2.3092e-03,  1.5740e-03,\n",
       "           6.8649e-04,  7.9960e-04,  2.5167e-03,  7.9422e-04,  9.9200e-01,\n",
       "           1.7820e-03,  1.1839e-03,  1.1438e-03,  1.6338e-03,  3.6540e-03,\n",
       "          -7.9530e-04,  1.9443e-03,  2.6453e-03,  2.9099e-03, -3.6948e-04],\n",
       "         [-2.7100e-03, -2.8707e-03, -4.3320e-03, -3.1870e-03, -3.4596e-03,\n",
       "          -2.1563e-03, -3.4801e-03, -1.4102e-03, -1.9066e-03, -2.0337e-03,\n",
       "           9.8646e-01, -2.1217e-03, -2.8699e-03, -2.6160e-03, -2.3365e-03,\n",
       "          -1.5441e-03, -2.8939e-03, -3.2145e-03, -2.9575e-03, -1.5059e-03],\n",
       "         [-1.0090e-03,  3.0730e-03,  6.0870e-03, -7.5096e-03, -9.2818e-04,\n",
       "           2.7235e-02,  8.3680e-03, -1.2888e-02,  2.3853e-03,  1.7424e-03,\n",
       "           2.1220e-02,  8.9790e-01, -7.9694e-04, -7.9578e-03,  5.6061e-03,\n",
       "          -1.5217e-02, -2.4564e-03, -1.0816e-02,  1.3203e-02,  1.7876e-03],\n",
       "         [-1.5751e-04, -1.4162e-04, -1.9303e-03, -8.1361e-04, -5.1670e-04,\n",
       "           1.3599e-04, -5.9970e-04, -1.9336e-03, -1.9060e-03, -1.7942e-03,\n",
       "          -1.4156e-03,  2.6188e-04,  9.8833e-01, -3.3998e-03, -1.8559e-03,\n",
       "          -1.2714e-03, -2.1005e-03, -1.5593e-03, -2.3496e-03, -6.7022e-04],\n",
       "         [-1.3873e-03, -5.1962e-03, -5.0527e-03, -3.8032e-03, -4.2859e-03,\n",
       "          -4.0838e-03, -4.1415e-03, -4.5801e-03, -3.4418e-03, -2.4294e-03,\n",
       "          -2.6169e-03, -2.0710e-03, -5.5143e-03,  9.8638e-01, -2.0043e-03,\n",
       "          -2.2202e-03, -3.9162e-03, -5.9622e-03, -5.3571e-03, -2.1821e-03],\n",
       "         [ 9.1417e-04,  1.8041e-03,  8.2268e-04,  1.1931e-03,  7.1119e-04,\n",
       "          -1.3815e-03,  4.9087e-04, -9.9936e-04, -9.4756e-04, -4.0459e-04,\n",
       "           1.5363e-03,  9.0008e-04, -1.9286e-03,  1.2208e-03,  9.8320e-01,\n",
       "           5.8249e-04, -6.6231e-04, -1.3902e-03, -1.9690e-04, -2.8294e-04],\n",
       "         [-5.4899e-05,  5.0324e-04, -1.5115e-03,  2.1682e-04,  2.5893e-03,\n",
       "           1.3647e-04, -1.5989e-04, -6.9333e-04, -8.7147e-04,  3.8990e-05,\n",
       "          -7.5619e-04, -1.5641e-03,  1.3732e-03, -2.7637e-04, -5.5443e-05,\n",
       "           9.8895e-01, -8.5938e-04, -8.2166e-04, -1.1802e-03,  6.1400e-05],\n",
       "         [ 2.9352e-03,  3.2477e-03,  2.2288e-03,  7.4639e-04,  1.1433e-03,\n",
       "           2.9132e-03,  2.3914e-03,  1.5188e-03,  2.8310e-03,  2.0601e-03,\n",
       "           1.4354e-03,  1.8619e-03,  2.2778e-03,  3.0293e-03,  1.8621e-03,\n",
       "           3.4217e-03,  9.9243e-01,  3.1341e-03,  3.4030e-04,  1.4314e-03],\n",
       "         [-3.1351e-03, -5.0331e-03, -2.2929e-03, -2.3163e-03, -2.4425e-03,\n",
       "          -1.4702e-03, -4.6229e-03, -4.5666e-03, -3.2699e-03, -3.6708e-03,\n",
       "          -4.7156e-03, -4.6472e-03, -3.1339e-03, -3.2437e-03, -7.2602e-06,\n",
       "          -1.0653e-03, -4.1167e-03,  9.8562e-01, -3.7088e-03, -2.6173e-03],\n",
       "         [-3.3143e-03, -4.0200e-03, -3.8018e-03, -4.4638e-03, -4.6165e-03,\n",
       "          -3.0019e-03, -3.5254e-03, -2.8410e-03, -3.1042e-03, -2.9024e-03,\n",
       "          -4.1647e-03, -2.7362e-03, -6.1786e-03, -5.5410e-03, -4.7430e-03,\n",
       "          -3.8331e-03, -4.9807e-03, -4.8174e-03,  9.7973e-01, -3.3029e-03],\n",
       "         [ 3.4947e-03,  4.4688e-03,  3.2125e-03,  3.4435e-03,  2.4844e-03,\n",
       "           3.4260e-03,  2.0672e-03,  3.0033e-03,  1.8404e-03,  2.2776e-03,\n",
       "           2.8636e-03,  2.7480e-03,  4.8815e-03,  3.7000e-03,  1.9864e-03,\n",
       "           1.8883e-03,  2.1778e-03,  2.2723e-03,  2.8653e-03,  9.8940e-01]],\n",
       "        device='cuda:0', requires_grad=True),\n",
       " Parameter containing:\n",
       " tensor([ 0.0957,  0.2170,  0.2188,  0.2612,  0.1322,  0.2290,  0.2468,  0.2058,\n",
       "          0.0665, -0.0296,  0.1207,  0.1438,  0.0722,  0.1674,  0.0385,  0.0293,\n",
       "         -0.0574,  0.1558,  0.1974, -0.0971], device='cuda:0',\n",
       "        requires_grad=True)]"
      ]
     },
     "execution_count": 11,
     "metadata": {},
     "output_type": "execute_result"
    }
   ],
   "source": [
    "list(model.encode_params())"
   ]
  },
  {
   "cell_type": "code",
   "execution_count": 12,
   "metadata": {},
   "outputs": [
    {
     "data": {
      "text/plain": [
       "[<matplotlib.lines.Line2D at 0x7f96fd6ccf70>]"
      ]
     },
     "execution_count": 12,
     "metadata": {},
     "output_type": "execute_result"
    },
    {
     "data": {
      "image/png": "[encoded data removed]",
      "text/plain": [
       "<Figure size 432x288 with 1 Axes>"
      ]
     },
     "metadata": {
      "needs_background": "light"
     },
     "output_type": "display_data"
    }
   ],
   "source": [
    "import matplotlib.pyplot as plt\n",
    "\n",
    "plt.plot(torch.log(losses - min(losses)))"
   ]
  },
  {
   "cell_type": "code",
   "execution_count": 44,
   "metadata": {},
   "outputs": [
    {
     "name": "stdout",
     "output_type": "stream",
     "text": [
      "torch.Size([1024, 20, 20])\n",
      "torch.Size([1024, 20])\n"
     ]
    }
   ],
   "source": [
    "from comparison.metric import sample_grads\n",
    "from comparison.loss import ELBO\n",
    "\n",
    "grads = sample_grads(model, train_loader, tuple(model.encode_params()), M=10, K=10, loss_fn=ELBO_loss, reshape=True)"
   ]
  },
  {
   "cell_type": "code",
   "execution_count": 45,
   "metadata": {},
   "outputs": [],
   "source": [
    "def norm_over(xs: torch.Tensor, dim: int = None) -> torch.Tensor:\n",
    "    if dim == None:\n",
    "        return torch.sqrt((xs ** 2).sum())\n",
    "    else:\n",
    "        return torch.sqrt((xs ** 2).sum(dim=dim))\n",
    "\n",
    "exp = grads.mean(dim=0)\n",
    "norm_exp = exp / norm_over(exp)"
   ]
  },
  {
   "cell_type": "code",
   "execution_count": 46,
   "metadata": {},
   "outputs": [],
   "source": [
    "grads_pll = ((grads * norm_exp).sum(dim=1).unsqueeze(dim=-1) * norm_exp)"
   ]
  },
  {
   "cell_type": "code",
   "execution_count": 47,
   "metadata": {},
   "outputs": [
    {
     "data": {
      "text/plain": [
       "tensor([[ 8.7346,  1.8205,  2.2034,  ..., -1.6937, -0.7149,  1.6760],\n",
       "        [-3.4649, -0.7222, -0.8741,  ...,  0.6719,  0.2836, -0.6648],\n",
       "        [ 7.4351,  1.5496,  1.8756,  ..., -1.4417, -0.6086,  1.4266],\n",
       "        ...,\n",
       "        [ 0.8983,  0.1872,  0.2266,  ..., -0.1742, -0.0735,  0.1724],\n",
       "        [26.3549,  5.4929,  6.6483,  ..., -5.1103, -2.1572,  5.0568],\n",
       "        [ 8.0119,  1.6698,  2.0211,  ..., -1.5535, -0.6558,  1.5373]],\n",
       "       device='cuda:0')"
      ]
     },
     "execution_count": 47,
     "metadata": {},
     "output_type": "execute_result"
    }
   ],
   "source": [
    "grads_pll"
   ]
  },
  {
   "cell_type": "code",
   "execution_count": 48,
   "metadata": {},
   "outputs": [
    {
     "data": {
      "text/plain": [
       "tensor([[-27.6363, -39.8715, -38.5775,  ...,   2.5858,   7.0058,   2.1349],\n",
       "        [  3.8985,   0.6560,   3.5311,  ..., -18.8759,  -3.3713,  -4.6693],\n",
       "        [-16.9931, -27.8445, -21.0327,  ...,  -3.8756,  -6.6125,   1.7008],\n",
       "        ...,\n",
       "        [-16.8503, -20.6113,  -7.3666,  ...,  -0.2008,  -0.9159, -16.4401],\n",
       "        [ 21.7453,  22.6552,  33.1230,  ...,  -6.2591,  -0.1092,  11.7769],\n",
       "        [  9.2279,  19.3187,  20.5734,  ...,  -4.6138,   1.1262,   3.1914]],\n",
       "       device='cuda:0')"
      ]
     },
     "execution_count": 48,
     "metadata": {},
     "output_type": "execute_result"
    }
   ],
   "source": [
    "grads"
   ]
  },
  {
   "cell_type": "code",
   "execution_count": 51,
   "metadata": {},
   "outputs": [],
   "source": [
    "grads_perp = grads - grads_pll"
   ]
  },
  {
   "cell_type": "code",
   "execution_count": 52,
   "metadata": {},
   "outputs": [],
   "source": [
    "dsnr = norm_over(grads_pll, dim=1) / norm_over(grads_perp, dim=1)"
   ]
  },
  {
   "cell_type": "code",
   "execution_count": 53,
   "metadata": {},
   "outputs": [
    {
     "data": {
      "text/plain": [
       "tensor(0.1693, device='cuda:0')"
      ]
     },
     "execution_count": 53,
     "metadata": {},
     "output_type": "execute_result"
    }
   ],
   "source": [
    "dsnr.mean()"
   ]
  },
  {
   "cell_type": "code",
   "execution_count": null,
   "metadata": {},
   "outputs": [],
   "source": []
  }
 ],
 "metadata": {
  "kernelspec": {
   "display_name": "Python 3 (ipykernel)",
   "language": "python",
   "name": "python3"
  },
  "language_info": {
   "codemirror_mode": {
    "name": "ipython",
    "version": 3
   },
   "file_extension": ".py",
   "mimetype": "text/x-python",
   "name": "python",
   "nbconvert_exporter": "python",
   "pygments_lexer": "ipython3",
   "version": "3.9.7"
  }
 },
 "nbformat": 4,
 "nbformat_minor": 4
}
