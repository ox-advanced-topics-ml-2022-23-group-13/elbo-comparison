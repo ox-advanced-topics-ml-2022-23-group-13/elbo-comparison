{
 "cells": [
  {
   "cell_type": "code",
   "execution_count": 2,
   "id": "933f4276",
   "metadata": {},
   "outputs": [
    {
     "ename": "ModuleNotFoundError",
     "evalue": "No module named 'examples'",
     "output_type": "error",
     "traceback": [
      "\u001b[0;31m---------------------------------------------------------------------------\u001b[0m",
      "\u001b[0;31mModuleNotFoundError\u001b[0m                       Traceback (most recent call last)",
      "Input \u001b[0;32mIn [2]\u001b[0m, in \u001b[0;36m<cell line: 2>\u001b[0;34m()\u001b[0m\n\u001b[1;32m      1\u001b[0m \u001b[38;5;28;01mimport\u001b[39;00m \u001b[38;5;21;01mtorch\u001b[39;00m\n\u001b[0;32m----> 2\u001b[0m \u001b[38;5;28;01mfrom\u001b[39;00m \u001b[38;5;21;01mexamples\u001b[39;00m\u001b[38;5;21;01m.\u001b[39;00m\u001b[38;5;21;01mvae_mnist\u001b[39;00m \u001b[38;5;28;01mimport\u001b[39;00m VAE_MNIST\n\u001b[1;32m      3\u001b[0m \u001b[38;5;28;01mfrom\u001b[39;00m \u001b[38;5;21;01mloss\u001b[39;00m \u001b[38;5;28;01mimport\u001b[39;00m ELBO\n\u001b[1;32m      4\u001b[0m \u001b[38;5;28;01mfrom\u001b[39;00m \u001b[38;5;21;01mtqdm\u001b[39;00m\u001b[38;5;21;01m.\u001b[39;00m\u001b[38;5;21;01mnotebook\u001b[39;00m \u001b[38;5;28;01mimport\u001b[39;00m tqdm\n",
      "\u001b[0;31mModuleNotFoundError\u001b[0m: No module named 'examples'"
     ]
    }
   ],
   "source": [
    "import torch\n",
    "from examples.vae_mnist import VAE_MNIST\n",
    "from loss import ELBO\n",
    "from tqdm.notebook import tqdm"
   ]
  },
  {
   "cell_type": "code",
   "execution_count": null,
   "id": "8ed5a6bc",
   "metadata": {},
   "outputs": [],
   "source": [
    "from torchvision import datasets, transforms\n",
    "from torch.utils.data import DataLoader\n",
    "\n",
    "train_dataset = datasets.MNIST('./_mnist', train=True, download=True,\n",
    "                   transform=transforms.Compose([\n",
    "                       transforms.ToTensor(),\n",
    "                   ]))\n",
    "\n",
    "test_dataset = datasets.MNIST('./_mnist', train=False, download=True,\n",
    "                   transform=transforms.Compose([\n",
    "                       transforms.ToTensor(),\n",
    "                   ]))\n",
    "\n",
    "train_loader = DataLoader(train_dataset, batch_size=64, shuffle=True)\n",
    "test_loader = DataLoader(test_dataset, batch_size=64, shuffle=True)"
   ]
  },
  {
   "cell_type": "code",
   "execution_count": null,
   "id": "5a18f1c3",
   "metadata": {},
   "outputs": [],
   "source": [
    "def train(model, optim, dataloader, no_epochs=3):\n",
    "    model.train()\n",
    "    \n",
    "    train_loss = []\n",
    "    for epoch in range(no_epochs):\n",
    "        for imgs, _ in tqdm(dataloader, desc=\"Training Epoch №%s\" % epoch, leave=False):\n",
    "            imgs = imgs.view(-1, 28*28)\n",
    "            vae_res = model(imgs)\n",
    "            loss = ELBO(vae_res)\n",
    "            train_loss.append(loss.item())\n",
    "\n",
    "            optim.zero_grad()\n",
    "            loss.backward()\n",
    "            optimizer.step()\n",
    "\n",
    "    return torch.Tensor(train_loss)"
   ]
  },
  {
   "cell_type": "code",
   "execution_count": null,
   "id": "a2fafab0",
   "metadata": {},
   "outputs": [],
   "source": [
    "model = VAE_MNIST()\n",
    "optim = torch.optim.Adam(model.parameters(), lr=1e-3)"
   ]
  },
  {
   "cell_type": "code",
   "execution_count": 2,
   "id": "a0f09b6b",
   "metadata": {},
   "outputs": [
    {
     "ename": "NameError",
     "evalue": "name 'train' is not defined",
     "output_type": "error",
     "traceback": [
      "\u001b[0;31m---------------------------------------------------------------------------\u001b[0m",
      "\u001b[0;31mNameError\u001b[0m                                 Traceback (most recent call last)",
      "Input \u001b[0;32mIn [2]\u001b[0m, in \u001b[0;36m<cell line: 1>\u001b[0;34m()\u001b[0m\n\u001b[0;32m----> 1\u001b[0m \u001b[43mtrain\u001b[49m(model, optim, train_loader)\n",
      "\u001b[0;31mNameError\u001b[0m: name 'train' is not defined"
     ]
    }
   ],
   "source": [
    "train(model, optim, train_loader)"
   ]
  },
  {
   "cell_type": "code",
   "execution_count": 6,
   "id": "7dfecc51",
   "metadata": {},
   "outputs": [
    {
     "name": "stdout",
     "output_type": "stream",
     "text": [
      "\n",
      "Please wait a moment while I gather a list of all available modules...\n",
      "\n"
     ]
    },
    {
     "name": "stderr",
     "output_type": "stream",
     "text": [
      "NOTE: Redirects are currently not supported in Windows or MacOs.\n"
     ]
    },
    {
     "name": "stdout",
     "output_type": "stream",
     "text": [
      "IPython             array               ipaddress           runpy\n",
      "OpenSSL             ast                 ipykernel           sched\n",
      "PIL                 asttokens           ipykernel_launcher  secrets\n",
      "PyQt5               asynchat            ipython_genutils    select\n",
      "__future__          asyncio             ipywidgets          selectors\n",
      "_abc                asyncore            itertools           send2trash\n",
      "_aix_support        atexit              jedi                setuptools\n",
      "_argon2_cffi_bindings attr                jinja2              shell_exec\n",
      "_ast                attrs               json                shelve\n",
      "_asyncio            audioop             jsonschema          shlex\n",
      "_bisect             backcall            jupyter             shutil\n",
      "_blake2             backports           jupyter_client      signal\n",
      "_bootlocale         base64              jupyter_console     sip\n",
      "_bootsubprocess     bdb                 jupyter_core        sipconfig\n",
      "_bz2                binascii            jupyterlab_pygments sipdistutils\n",
      "_cffi_backend       binhex              keyword             site\n",
      "_codecs             bisect              lib2to3             six\n",
      "_codecs_cn          bleach              linecache           smtpd\n",
      "_codecs_hk          brotli              locale              smtplib\n",
      "_codecs_iso2022     bs4                 logging             sndhdr\n",
      "_codecs_jp          builtins            lzma                socket\n",
      "_codecs_kr          bz2                 mailbox             socketserver\n",
      "_codecs_tw          cProfile            mailcap             socks\n",
      "_collections        caffe2              markupsafe          sockshandler\n",
      "_collections_abc    calendar            marshal             soupsieve\n",
      "_compat_pickle      certifi             math                sqlite3\n",
      "_compression        cffi                matplotlib_inline   sre_compile\n",
      "_contextvars        cgi                 mimetypes           sre_constants\n",
      "_crypt              cgitb               mistune             sre_parse\n",
      "_csv                charset_normalizer  mkl                 ssl\n",
      "_ctypes             chunk               mkl_fft             stack_data\n",
      "_ctypes_test        cmath               mkl_random          stat\n",
      "_curses             cmd                 mmap                statistics\n",
      "_curses_panel       code                modulefinder        string\n",
      "_datetime           codecs              multiprocessing     stringprep\n",
      "_dbm                codeop              nbclient            struct\n",
      "_decimal            collections         nbconvert           subprocess\n",
      "_distutils_hack     colorama            nbformat            sunau\n",
      "_elementtree        colorsys            nest_asyncio        symbol\n",
      "_functools          compileall          netrc               symbolProvider\n",
      "_hashlib            completion          nis                 symtable\n",
      "_heapq              concurrent          nntplib             sys\n",
      "_imp                configparser        normalizeForInterpreter sysconfig\n",
      "_io                 contextlib          normalizeSelection  syslog\n",
      "_json               contextvars         notebook            tabnanny\n",
      "_locale             copy                ntpath              tarfile\n",
      "_lsprof             copyreg             nturl2path          telnetlib\n",
      "_lzma               crypt               numbers             tempfile\n",
      "_markupbase         cryptography        numpy               terminado\n",
      "_md5                csv                 opcode              termios\n",
      "_multibytecodec     ctypes              operator            test\n",
      "_multiprocessing    curses              optparse            testlauncher\n",
      "_opcode             dataclasses         os                  testpath\n",
      "_operator           datetime            packaging           textwrap\n",
      "_osx_support        dateutil            pandocfilters       this\n",
      "_peg_parser         dbm                 parser              threading\n",
      "_pickle             debugpy             parso               time\n",
      "_posixshmem         decimal             pathlib             timeit\n",
      "_posixsubprocess    decorator           pdb                 tkinter\n",
      "_py_abc             defusedxml          pexpect             token\n",
      "_pydecimal          difflib             pickle              tokenize\n",
      "_pyio               dis                 pickleshare         torch\n",
      "_pyrsistent_version distutils           pickletools         torchaudio\n",
      "_queue              doctest             pip                 torchvision\n",
      "_random             email               pipes               tornado\n",
      "_remote_module_non_sriptable encodings           pkg_resources       tqdm\n",
      "_scproxy            ensurepip           pkgutil             trace\n",
      "_sha1               entrypoints         platform            traceback\n",
      "_sha256             enum                plistlib            tracemalloc\n",
      "_sha3               errno               poplib              traitlets\n",
      "_sha512             executing           posix               tty\n",
      "_signal             faulthandler        posixpath           turtle\n",
      "_sitebuiltins       fcntl               pprint              turtledemo\n",
      "_socket             filecmp             printEnvVariables   types\n",
      "_sqlite3            fileinput           printEnvVariablesToFile typing\n",
      "_sre                flit_core           profile             typing_extensions\n",
      "_ssl                fnmatch             prometheus_client   unicodedata\n",
      "_stat               formatter           prompt_toolkit      unittest\n",
      "_statistics         fractions           pstats              urllib\n",
      "_string             ftplib              psutil              urllib3\n",
      "_strptime           functools           pty                 uu\n",
      "_struct             gc                  ptyprocess          uuid\n",
      "_symtable           genericpath         pure_eval           venv\n",
      "_sysconfigdata__darwin_darwin getopt              pvectorc            visualstudio_py_testlauncher\n",
      "_sysconfigdata_x86_64_apple_darwin13_4_0 getpass             pwd                 vscode_datascience_helpers\n",
      "_testbuffer         gettext             py_compile          warnings\n",
      "_testcapi           glob                pyclbr              wave\n",
      "_testimportmultiple graphlib            pycparser           wcwidth\n",
      "_testinternalcapi   grp                 pydoc               weakref\n",
      "_testmultiphase     gzip                pydoc_data          webbrowser\n",
      "_thread             hashlib             pyexpat             webencodings\n",
      "_threading_local    heapq               pygments            wheel\n",
      "_tkinter            hmac                pyls_jsonrpc        widgetsnbextension\n",
      "_tracemalloc        html                pyparsing           wsgiref\n",
      "_uuid               http                pyrsistent          xdrlib\n",
      "_warnings           idlelib             qtconsole           xml\n",
      "_weakref            idna                qtpy                xmlrpc\n",
      "_weakrefset         imaplib             queue               xxlimited\n",
      "_xxsubinterpreters  imghdr              quopri              xxsubtype\n",
      "_xxtestfuzz         imp                 random              zipapp\n",
      "_zoneinfo           importlib           re                  zipfile\n",
      "abc                 importlib_metadata  readline            zipimport\n",
      "aifc                importlib_resources reprlib             zipp\n",
      "antigravity         inspect             requests            zlib\n",
      "appnope             install_debugpy     resource            zmq\n",
      "argon2              interpreterInfo     rlcompleter         zoneinfo\n",
      "argparse            io                  runJediLanguageServer \n",
      "\n",
      "Enter any module name to get more help.  Or, type \"modules spam\" to search\n",
      "for modules whose name or summary contain the string \"spam\".\n",
      "\n"
     ]
    },
    {
     "name": "stderr",
     "output_type": "stream",
     "text": [
      "/Users/andy/opt/anaconda3/envs/elbo-comparison/lib/python3.9/pkgutil.py:108: VisibleDeprecationWarning: zmq.eventloop.minitornado is deprecated in pyzmq 14.0 and will be removed.\n",
      "    Install tornado itself to use zmq with the tornado IOLoop.\n",
      "    \n",
      "  yield from walk_packages(path, info.name+'.', onerror)\n"
     ]
    }
   ],
   "source": [
    "help('modules')"
   ]
  },
  {
   "cell_type": "code",
   "execution_count": null,
   "id": "2c7e29a9",
   "metadata": {},
   "outputs": [],
   "source": []
  }
 ],
 "metadata": {
  "kernelspec": {
   "display_name": "Python 3 (ipykernel)",
   "language": "python",
   "name": "python3"
  },
  "language_info": {
   "codemirror_mode": {
    "name": "ipython",
    "version": 3
   },
   "file_extension": ".py",
   "mimetype": "text/x-python",
   "name": "python",
   "nbconvert_exporter": "python",
   "pygments_lexer": "ipython3",
   "version": "3.9.7"
  }
 },
 "nbformat": 4,
 "nbformat_minor": 5
}
