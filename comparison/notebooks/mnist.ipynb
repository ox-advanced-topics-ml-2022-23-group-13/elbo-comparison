{
 "cells": [
  {
   "cell_type": "code",
   "execution_count": 1,
   "id": "d692e7ac",
   "metadata": {},
   "outputs": [],
   "source": [
    "import sys\n",
    "import os\n",
    "sys.path.append(os.path.abspath('../..')) # include top level package in python path"
   ]
  },
  {
   "cell_type": "code",
   "execution_count": 2,
   "id": "9270a2f9",
   "metadata": {},
   "outputs": [],
   "source": [
    "import torch\n",
    "from comparison.examples.vae_mnist import VAE_MNIST\n",
    "from comparison.loss import ELBO, IWAE_loss, CIWAE_loss, PIWAE_loss\n",
    "from comparison.metric import IWAE_64, log_px\n",
    "from comparison.metric import IWAE_metric, CIWAE_metric, PIWAE_metric, sample_ess\n",
    "from tqdm.notebook import tqdm\n",
    "import csv"
   ]
  },
  {
   "cell_type": "code",
   "execution_count": 3,
   "id": "7e561804",
   "metadata": {},
   "outputs": [
    {
     "name": "stdout",
     "output_type": "stream",
     "text": [
      "bernoulli\n"
     ]
    }
   ],
   "source": [
    "# Change device as needed. \n",
    "# CPU is supported on all machines, CUDA for specific GPUs.\n",
    "\n",
    "# device = 'cpu'\n",
    "device = 'cuda'\n",
    "\n",
    "import time\n",
    "model_dir = './_modeldata/'\n",
    "idstr = \"bernoulli\"\n",
    "print(idstr)"
   ]
  },
  {
   "cell_type": "code",
   "execution_count": 4,
   "id": "05f3f383",
   "metadata": {},
   "outputs": [],
   "source": [
    "import re\n",
    "import pandas as pd\n",
    "\n",
    "class MNISTTrainData():\n",
    "    def __init__(self, model_dir, idstr):\n",
    "        self.model_dir = model_dir\n",
    "        self.idstr = idstr\n",
    "        \n",
    "    def model_from_filename(self, filename):\n",
    "        model_str = \"^%s-(.+)-r([0-9]+)-([^-]+)-model\\\\.pt\" % self.idstr\n",
    "        match = re.search(model_str, filename)\n",
    "        if match == None:\n",
    "            return None\n",
    "        loss = match.group(1)\n",
    "        run_no = int(match.group(2))\n",
    "        epoch = self.epoch_from_str(match.group(3))\n",
    "\n",
    "        return (loss, run_no, epoch)\n",
    "    \n",
    "    def results_from_filename(self, filename):\n",
    "        results_str = \"^%s-(.+)-r([0-9]+)-results\\\\.csv\" % self.idstr\n",
    "        match = re.search(results_str, filename)\n",
    "        if match == None:\n",
    "            return None\n",
    "        loss = match.group(1)\n",
    "        run_no = int(match.group(2))\n",
    "\n",
    "        return (loss, run_no)\n",
    "        \n",
    "    def get_files(self):\n",
    "        filenames = os.listdir(self.model_dir)\n",
    "        models = [self.model_from_filename(fl) for fl in filenames]\n",
    "        results = [self.results_from_filename(fl) for fl in filenames]\n",
    "        return [*filter(lambda x: x, models)], [*filter(lambda x: x, results)]\n",
    "        \n",
    "    def load_all_results(self):\n",
    "        results = {\n",
    "            'vae': [],\n",
    "            'iwae': [],\n",
    "            'ciwae-05': [],\n",
    "            'miwae-8-8': [],\n",
    "            'piwae-8-8': [],\n",
    "        }\n",
    "        \n",
    "        _, result_files = self.get_files()\n",
    "        for loss, run_no in result_files:\n",
    "            data = self.load_results(loss, run_no)\n",
    "            results[loss].append((run_no, data))\n",
    "            \n",
    "        return results\n",
    "        \n",
    "    def epoch_str(self, epoch = None):\n",
    "        return \"final\" if epoch == None else \"e\" + str(epoch)\n",
    "    \n",
    "    def epoch_from_str(self, s):\n",
    "        if s == \"final\":\n",
    "            return None\n",
    "        else:\n",
    "            match = re.search(\"e([0-9]+)\", s)\n",
    "            if not match:\n",
    "                raise ValueError\n",
    "            return int(match.group(1))\n",
    "            \n",
    "    def start_prefix(self):\n",
    "        return self.model_dir + self.idstr + \"-start\"\n",
    "    \n",
    "    def run_prefix(self, loss, run_no):\n",
    "        return (\n",
    "            self.model_dir \n",
    "            + self.idstr \n",
    "            + \"-\"\n",
    "            + loss \n",
    "            + \"-r\"\n",
    "            + str(run_no)\n",
    "        )\n",
    "        \n",
    "    def start_model_str(self):\n",
    "        return self.start_prefix() + \"-model.pt\"\n",
    "        \n",
    "    def model_str(self, epoch, *args, **kargs):\n",
    "        return self.run_prefix(*args, **kargs) + \"-\" + self.epoch_str(epoch)  + \"-model.pt\"\n",
    "\n",
    "    def results_str(self, *args, **kargs):\n",
    "        return self.run_prefix(*args, **kargs) + \"-results.csv\"\n",
    "        \n",
    "    def load_start(self, model):\n",
    "        return model.load_state_dict(torch.load(self.start_model_str()))\n",
    "    \n",
    "    def save_start(self, model):\n",
    "        torch.save(model.state_dict(), self.start_model_str())\n",
    "        \n",
    "    def load_model(self, model, loss, run_no, epoch):\n",
    "        filename = self.model_str(epoch, loss, run_no)\n",
    "        return model.load_state_dict(torch.load(filename))\n",
    "        \n",
    "    def save_model(self, model, loss, run_no, epoch):\n",
    "        filename = self.model_str(epoch, loss, run_no)\n",
    "        torch.save(model.state_dict(), filename)\n",
    "        \n",
    "    def load_results(self, loss, run_no):\n",
    "        filename = self.results_str(loss, run_no)\n",
    "        return pd.read_csv(filename)\n",
    "        \n",
    "    def save_results(self, test_metrics, loss, run_no):\n",
    "        filename = self.results_str(loss, run_no)\n",
    "        test_metrics.to_csv(filename)\n",
    "            \n",
    "mnist_train_data = MNISTTrainData(model_dir, idstr)"
   ]
  },
  {
   "cell_type": "code",
   "execution_count": 5,
   "id": "cb1a9bc7",
   "metadata": {},
   "outputs": [],
   "source": [
    "from torchvision import datasets, transforms\n",
    "from torch.utils.data import DataLoader, TensorDataset\n",
    "\n",
    "train_dataset = datasets.MNIST('./_mnist', train=True, download=True,\n",
    "                   transform=transforms.Compose([\n",
    "                       transforms.ToTensor(),\n",
    "                       torch.bernoulli\n",
    "                       \n",
    "                   ]))\n",
    "\n",
    "test_dataset = datasets.MNIST('./_mnist', train=False, download=True,\n",
    "                   transform=transforms.Compose([\n",
    "                       transforms.ToTensor(),\n",
    "                       torch.bernoulli\n",
    "                   ]))\n",
    "\n",
    "\n",
    "def static_copy(dataset):\n",
    "    ys = torch.tensor([*map(lambda tpl: tpl[1], dataset)])\n",
    "    xs = torch.cat([*map(lambda tpl: tpl[0].unsqueeze(0), dataset)], dim=0)\n",
    "    return TensorDataset(xs, ys)\n",
    "\n",
    "#train_dataset = static_copy(train_dataset)\n",
    "#test_datast = static_copy(test_dataset)\n",
    "\n",
    "\n",
    "train_loader = DataLoader(train_dataset, batch_size=128, shuffle=True)\n",
    "# We set a low batch_size for sampling IWAE with K=5000\n",
    "test_loader = DataLoader(test_dataset, batch_size=4, shuffle=True)\n"
   ]
  },
  {
   "cell_type": "code",
   "execution_count": 6,
   "id": "d79ca4ab",
   "metadata": {},
   "outputs": [],
   "source": [
    "def train_epoch(model, optims, dataloader, loss_function, label):\n",
    "    model.train()\n",
    "    for imgs, _ in tqdm(dataloader, desc=\"Training Epoch №%s\" % label, leave=False):\n",
    "        imgs = imgs.view(-1, 28*28).to(device)\n",
    "        losses = loss_function(model, imgs)\n",
    "        \n",
    "        if type(losses) is not tuple:\n",
    "            optim = optims[0]\n",
    "            loss = -losses\n",
    "            optim.zero_grad()\n",
    "            loss.backward()\n",
    "            optim.step()\n",
    "        else: #PIWAE\n",
    "            grads = []\n",
    "            for idx, (optim, loss) in enumerate(zip(optims, losses)):\n",
    "                loss = -loss\n",
    "                for p in model.parameters():\n",
    "                    p.grad = None\n",
    "                loss.backward(retain_graph=idx<len(optims)-1)\n",
    "                grads.append([p.grad for p in optim.param_groups[0][\"params\"]])\n",
    "\n",
    "            for idx, optim in enumerate(optims):\n",
    "                for g, p in zip(grads[idx], optim.param_groups[0][\"params\"]):\n",
    "                    #assert(idx == 1 or not torch.equal(p.grad, g))\n",
    "                    p.grad = g\n",
    "            \n",
    "            for optim in optims:\n",
    "                optim.step()\n",
    "\n"
   ]
  },
  {
   "cell_type": "code",
   "execution_count": 7,
   "id": "e8cd90a8",
   "metadata": {},
   "outputs": [],
   "source": [
    "def test_epoch(model, test_loader, label):\n",
    "    with torch.no_grad():\n",
    "        #evaluate metrics\n",
    "        test_scores = {\n",
    "            \"iwae-64\": 0.0,\n",
    "            \"logpx\": 0.0,\n",
    "            \"-kl\"    : 0.0\n",
    "        }\n",
    "\n",
    "        for imgs, _ in tqdm(test_loader, desc=\"Test Epoch №%s\" % label, leave=False):\n",
    "            imgs = imgs.view(-1, 28*28).to(device)            \n",
    "            IWAE_64_loss = IWAE_64(model, imgs)\n",
    "            logpx_loss = log_px(model, imgs)\n",
    "            negKL_loss = logpx_loss - IWAE_64_loss\n",
    "            \n",
    "            test_scores[\"iwae-64\"] += IWAE_64_loss.sum().item()\n",
    "            test_scores[\"logpx\"] += logpx_loss.sum().item()\n",
    "            test_scores[\"-kl\"] += negKL_loss.sum().item()\n",
    "        \n",
    "        N = len(test_loader.dataset)\n",
    "        test_scores[\"iwae-64\"] /= N\n",
    "        test_scores[\"logpx\"] /= N\n",
    "        test_scores[\"-kl\"] /= N\n",
    "        \n",
    "        return test_scores\n",
    "        "
   ]
  },
  {
   "cell_type": "code",
   "execution_count": 8,
   "id": "8958d0e8",
   "metadata": {},
   "outputs": [],
   "source": [
    "def train_and_evaluate(\n",
    "    model, \n",
    "    train_loader, \n",
    "    test_loader, \n",
    "    test,\n",
    "    run_no\n",
    "):    \n",
    "    test_metrics = {\n",
    "        \"epoch\"  : [],\n",
    "        \"iwae-64\": [],\n",
    "        \"logpx\": [],\n",
    "        \"-kl\"    : []\n",
    "    }\n",
    "\n",
    "    for epoch in range(1, test.no_epochs + 1):\n",
    "        train_epoch(model, test.optims, train_loader, test.loss_fn, epoch)\n",
    "        \n",
    "        # save metrics\n",
    "        if epoch % test.epochs_per_sample == 1 or epoch == test.no_epochs:\n",
    "            test_scores = test_epoch(model, test_loader, epoch)\n",
    "            test_metrics[\"epoch\"].append(epoch)\n",
    "            test_metrics[\"iwae-64\"].append(test_scores[\"iwae-64\"])\n",
    "            test_metrics[\"logpx\"].append(test_scores[\"logpx\"])\n",
    "            test_metrics[\"-kl\"].append(test_scores[\"-kl\"])\n",
    "            \n",
    "        # snapshot model and metrics\n",
    "        if epoch % 100 == 1:\n",
    "            mnist_train_data.save_model(model, test.name, run_no, epoch)\n",
    "            mnist_train_data.save_results(pd.DataFrame(test_metrics), test.name, run_no)\n",
    "\n",
    "    return pd.DataFrame(test_metrics)"
   ]
  },
  {
   "cell_type": "code",
   "execution_count": 9,
   "id": "6f06dc05",
   "metadata": {},
   "outputs": [],
   "source": [
    "def eval_discard(loss_fn, M=1, K=1):\n",
    "    return lambda model, xs: loss_fn(model(xs, M, K))\n",
    "\n",
    "class LossTest:\n",
    "    \n",
    "    def __init__(self, name, loss_fn, optims, no_epochs, epochs_per_sample, no_runs = 1):\n",
    "        self.name = name\n",
    "        self.loss_fn = loss_fn\n",
    "        self.optims = optims\n",
    "        self.no_epochs = no_epochs\n",
    "        self.epochs_per_sample = epochs_per_sample\n",
    "        self.no_runs = no_runs\n",
    "\n",
    "model = VAE_MNIST().to(device)\n",
    "mnist_train_data.save_start(model)\n",
    "\n",
    "lr=1e-3\n",
    "optim = torch.optim.Adam(model.parameters(), lr=lr)\n",
    "inf_optim = torch.optim.Adam(model.encode_params(), lr=lr)\n",
    "gen_optim = torch.optim.Adam(model.decode_params(), lr=lr)\n",
    "\n",
    "fig5_tests = [\n",
    "    LossTest(\"iwae\", eval_discard(IWAE_loss, M=1, K=64), [optim], 2, 5, 1),\n",
    "    LossTest(\"ciwae-05\", eval_discard(lambda res: CIWAE_loss(res, 0.5), M=1, K=64), [optim], 2, 5, 1),\n",
    "    LossTest(\"piwae-8-8\", eval_discard(PIWAE_loss, M=8, K=8), [inf_optim, gen_optim], 2, 5, 1),\n",
    "    LossTest(\"miwae-8-8\", eval_discard(IWAE_loss, M=8, K=8), [optim], 2, 5, 1),\n",
    "    LossTest(\"vae\", eval_discard(IWAE_loss, M=64, K=1), [optim], 2, 5, 1)\n",
    "]        \n",
    "\n",
    "\n",
    "#iwae64_results = train_and_evaluate(model, [optim], train_loader, test_loader, iwae64, no_epochs=1)\n",
    "#iwae05_results = train_and_evaluate(model, [optim], train_loader, test_loader, ciwae05, no_epochs=5)\n",
    "\n",
    "    "
   ]
  },
  {
   "cell_type": "code",
   "execution_count": 10,
   "id": "ba0e7d1f",
   "metadata": {},
   "outputs": [
    {
     "name": "stdout",
     "output_type": "stream",
     "text": [
      "Training  iwae\n",
      "Run  1\n"
     ]
    },
    {
     "data": {
      "application/vnd.jupyter.widget-view+json": {
       "model_id": "",
       "version_major": 2,
       "version_minor": 0
      },
      "text/plain": [
       "Training Epoch №1:   0%|          | 0/469 [00:00<?, ?it/s]"
      ]
     },
     "metadata": {},
     "output_type": "display_data"
    },
    {
     "data": {
      "application/vnd.jupyter.widget-view+json": {
       "model_id": "",
       "version_major": 2,
       "version_minor": 0
      },
      "text/plain": [
       "Test Epoch №1:   0%|          | 0/2500 [00:00<?, ?it/s]"
      ]
     },
     "metadata": {},
     "output_type": "display_data"
    },
    {
     "data": {
      "application/vnd.jupyter.widget-view+json": {
       "model_id": "",
       "version_major": 2,
       "version_minor": 0
      },
      "text/plain": [
       "Training Epoch №2:   0%|          | 0/469 [00:00<?, ?it/s]"
      ]
     },
     "metadata": {},
     "output_type": "display_data"
    },
    {
     "data": {
      "application/vnd.jupyter.widget-view+json": {
       "model_id": "",
       "version_major": 2,
       "version_minor": 0
      },
      "text/plain": [
       "Test Epoch №2:   0%|          | 0/2500 [00:00<?, ?it/s]"
      ]
     },
     "metadata": {},
     "output_type": "display_data"
    },
    {
     "name": "stdout",
     "output_type": "stream",
     "text": [
      "Training  ciwae-05\n",
      "Run  1\n"
     ]
    },
    {
     "data": {
      "application/vnd.jupyter.widget-view+json": {
       "model_id": "",
       "version_major": 2,
       "version_minor": 0
      },
      "text/plain": [
       "Training Epoch №1:   0%|          | 0/469 [00:00<?, ?it/s]"
      ]
     },
     "metadata": {},
     "output_type": "display_data"
    },
    {
     "data": {
      "application/vnd.jupyter.widget-view+json": {
       "model_id": "",
       "version_major": 2,
       "version_minor": 0
      },
      "text/plain": [
       "Test Epoch №1:   0%|          | 0/2500 [00:00<?, ?it/s]"
      ]
     },
     "metadata": {},
     "output_type": "display_data"
    },
    {
     "data": {
      "application/vnd.jupyter.widget-view+json": {
       "model_id": "",
       "version_major": 2,
       "version_minor": 0
      },
      "text/plain": [
       "Training Epoch №2:   0%|          | 0/469 [00:00<?, ?it/s]"
      ]
     },
     "metadata": {},
     "output_type": "display_data"
    },
    {
     "data": {
      "application/vnd.jupyter.widget-view+json": {
       "model_id": "",
       "version_major": 2,
       "version_minor": 0
      },
      "text/plain": [
       "Test Epoch №2:   0%|          | 0/2500 [00:00<?, ?it/s]"
      ]
     },
     "metadata": {},
     "output_type": "display_data"
    },
    {
     "name": "stdout",
     "output_type": "stream",
     "text": [
      "Training  piwae-8-8\n",
      "Run  1\n"
     ]
    },
    {
     "data": {
      "application/vnd.jupyter.widget-view+json": {
       "model_id": "",
       "version_major": 2,
       "version_minor": 0
      },
      "text/plain": [
       "Training Epoch №1:   0%|          | 0/469 [00:00<?, ?it/s]"
      ]
     },
     "metadata": {},
     "output_type": "display_data"
    },
    {
     "data": {
      "application/vnd.jupyter.widget-view+json": {
       "model_id": "",
       "version_major": 2,
       "version_minor": 0
      },
      "text/plain": [
       "Test Epoch №1:   0%|          | 0/2500 [00:00<?, ?it/s]"
      ]
     },
     "metadata": {},
     "output_type": "display_data"
    },
    {
     "data": {
      "application/vnd.jupyter.widget-view+json": {
       "model_id": "",
       "version_major": 2,
       "version_minor": 0
      },
      "text/plain": [
       "Training Epoch №2:   0%|          | 0/469 [00:00<?, ?it/s]"
      ]
     },
     "metadata": {},
     "output_type": "display_data"
    },
    {
     "data": {
      "application/vnd.jupyter.widget-view+json": {
       "model_id": "",
       "version_major": 2,
       "version_minor": 0
      },
      "text/plain": [
       "Test Epoch №2:   0%|          | 0/2500 [00:00<?, ?it/s]"
      ]
     },
     "metadata": {},
     "output_type": "display_data"
    },
    {
     "name": "stdout",
     "output_type": "stream",
     "text": [
      "Training  miwae-8-8\n",
      "Run  1\n"
     ]
    },
    {
     "data": {
      "application/vnd.jupyter.widget-view+json": {
       "model_id": "",
       "version_major": 2,
       "version_minor": 0
      },
      "text/plain": [
       "Training Epoch №1:   0%|          | 0/469 [00:00<?, ?it/s]"
      ]
     },
     "metadata": {},
     "output_type": "display_data"
    },
    {
     "data": {
      "application/vnd.jupyter.widget-view+json": {
       "model_id": "",
       "version_major": 2,
       "version_minor": 0
      },
      "text/plain": [
       "Test Epoch №1:   0%|          | 0/2500 [00:00<?, ?it/s]"
      ]
     },
     "metadata": {},
     "output_type": "display_data"
    },
    {
     "data": {
      "application/vnd.jupyter.widget-view+json": {
       "model_id": "",
       "version_major": 2,
       "version_minor": 0
      },
      "text/plain": [
       "Training Epoch №2:   0%|          | 0/469 [00:00<?, ?it/s]"
      ]
     },
     "metadata": {},
     "output_type": "display_data"
    },
    {
     "data": {
      "application/vnd.jupyter.widget-view+json": {
       "model_id": "",
       "version_major": 2,
       "version_minor": 0
      },
      "text/plain": [
       "Test Epoch №2:   0%|          | 0/2500 [00:00<?, ?it/s]"
      ]
     },
     "metadata": {},
     "output_type": "display_data"
    },
    {
     "name": "stdout",
     "output_type": "stream",
     "text": [
      "Training  vae\n",
      "Run  1\n"
     ]
    },
    {
     "data": {
      "application/vnd.jupyter.widget-view+json": {
       "model_id": "",
       "version_major": 2,
       "version_minor": 0
      },
      "text/plain": [
       "Training Epoch №1:   0%|          | 0/469 [00:00<?, ?it/s]"
      ]
     },
     "metadata": {},
     "output_type": "display_data"
    },
    {
     "data": {
      "application/vnd.jupyter.widget-view+json": {
       "model_id": "",
       "version_major": 2,
       "version_minor": 0
      },
      "text/plain": [
       "Test Epoch №1:   0%|          | 0/2500 [00:00<?, ?it/s]"
      ]
     },
     "metadata": {},
     "output_type": "display_data"
    },
    {
     "data": {
      "application/vnd.jupyter.widget-view+json": {
       "model_id": "",
       "version_major": 2,
       "version_minor": 0
      },
      "text/plain": [
       "Training Epoch №2:   0%|          | 0/469 [00:00<?, ?it/s]"
      ]
     },
     "metadata": {},
     "output_type": "display_data"
    },
    {
     "data": {
      "application/vnd.jupyter.widget-view+json": {
       "model_id": "",
       "version_major": 2,
       "version_minor": 0
      },
      "text/plain": [
       "Test Epoch №2:   0%|          | 0/2500 [00:00<?, ?it/s]"
      ]
     },
     "metadata": {},
     "output_type": "display_data"
    }
   ],
   "source": [
    "for test in fig5_tests:\n",
    "    print(\"Training \", test.name)\n",
    "    for run_no in range(1, test.no_runs+1):\n",
    "        print(\"Run \", run_no)\n",
    "        \n",
    "        mnist_train_data.load_start(model)\n",
    "\n",
    "        test_metrics = train_and_evaluate(\n",
    "            model, \n",
    "            train_loader, \n",
    "            test_loader, \n",
    "            test,\n",
    "            run_no\n",
    "        )\n",
    "        \n",
    "        mnist_train_data.save_model(model, test.name, run_no, epoch = None)\n",
    "        mnist_train_data.save_results(test_metrics, test.name, run_no)\n",
    "        "
   ]
  },
  {
   "cell_type": "code",
   "execution_count": 12,
   "id": "dd375bc0",
   "metadata": {
    "scrolled": true
   },
   "outputs": [
    {
     "data": {
      "application/vnd.jupyter.widget-view+json": {
       "model_id": "",
       "version_major": 2,
       "version_minor": 0
      },
      "text/plain": [
       "Computing ESS:   0%|          | 0/2500 [00:00<?, ?it/s]"
      ]
     },
     "metadata": {},
     "output_type": "display_data"
    }
   ],
   "source": [
    "def compute_ess(model, T=100):\n",
    "    effective_sample_sizes = []\n",
    "\n",
    "    for imgs, _ in tqdm(test_loader, desc=\"Computing ESS\", leave=False):\n",
    "        with torch.no_grad():\n",
    "            imgs = imgs.view(-1, 28*28).to(device)\n",
    "            esss = sample_ess(model, imgs, T=T)\n",
    "\n",
    "            for ess in list(esss):\n",
    "                effective_sample_sizes.append(ess.item())\n",
    "    return effective_sample_sizes\n",
    "\n",
    "effective_sample_sizes = compute_ess(model, 5000)\n",
    "    "
   ]
  },
  {
   "cell_type": "code",
   "execution_count": 13,
   "id": "793db1b8",
   "metadata": {},
   "outputs": [
    {
     "data": {
      "image/png": "[encoded data removed]",
      "text/plain": [
       "<Figure size 432x288 with 1 Axes>"
      ]
     },
     "metadata": {
      "needs_background": "light"
     },
     "output_type": "display_data"
    }
   ],
   "source": [
    "import matplotlib.pyplot as plt\n",
    "\n",
    "# Create a figure instance\n",
    "fig = plt.figure()\n",
    "\n",
    "# Create an axes instance\n",
    "ax = fig.add_axes([0,0,1,1])\n",
    "\n",
    "# Create the boxplot\n",
    "bp = ax.violinplot([effective_sample_sizes, [1e-2], [2e-2]])\n",
    "plt.ylim(0,1e-4)\n",
    "plt.show()"
   ]
  },
  {
   "cell_type": "code",
   "execution_count": 14,
   "id": "f6195daf",
   "metadata": {},
   "outputs": [
    {
     "data": {
      "application/vnd.jupyter.widget-view+json": {
       "model_id": "7c557cd0015445e6973d7eb938d59a75",
       "version_major": 2,
       "version_minor": 0
      },
      "text/plain": [
       "  0%|          | 0/2500 [00:00<?, ?it/s]"
      ]
     },
     "metadata": {},
     "output_type": "display_data"
    },
    {
     "data": {
      "image/png": "[encoded data removed]",
      "text/plain": [
       "<Figure size 288x1872 with 8 Axes>"
      ]
     },
     "metadata": {
      "needs_background": "light"
     },
     "output_type": "display_data"
    }
   ],
   "source": [
    "#test_results = train_and_evaluate(model, [optim], train_loader, test_loader, eval_discard(IWAE_loss, M=1, K=64), 6, 10, model_dir+\"test\")\n",
    " \n",
    "#model.load_state_dict(torch.load(model_dir+'20220404-192054MIWAE8_8_run1_model_epoch6_'))\n",
    "\n",
    "\n",
    "import matplotlib.pyplot as plt\n",
    "\n",
    "plt.figure(figsize=(4,26))\n",
    "\n",
    "for imgs, _ in tqdm(test_loader):\n",
    "    for i in range(imgs.shape[0]):\n",
    "        if i >= 10:\n",
    "            break\n",
    "        img = imgs[i].view(28 * 28).to(device)\n",
    "        recon = model.reconstruct(img)\n",
    "        ax = plt.subplot(10, 2, 2 * i + 1)\n",
    "        ax.imshow(img.view(28, 28).clone().detach().cpu())\n",
    "        plt.title(\"Original\")\n",
    "        ax = plt.subplot(10, 2, 2 * i + 2)\n",
    "        ax.imshow(recon.view(28, 28).clone().detach().cpu())\n",
    "        plt.title(\"Reconstructed\")\n",
    "    break\n",
    "plt.show()"
   ]
  },
  {
   "cell_type": "code",
   "execution_count": null,
   "id": "cc8debd8",
   "metadata": {},
   "outputs": [],
   "source": []
  },
  {
   "cell_type": "code",
   "execution_count": null,
   "id": "3095066d",
   "metadata": {},
   "outputs": [],
   "source": []
  },
  {
   "cell_type": "code",
   "execution_count": null,
   "id": "d75c9cd4",
   "metadata": {},
   "outputs": [],
   "source": []
  },
  {
   "cell_type": "code",
   "execution_count": null,
   "id": "e088550a",
   "metadata": {},
   "outputs": [],
   "source": []
  },
  {
   "cell_type": "code",
   "execution_count": 17,
   "id": "e99ff37d",
   "metadata": {},
   "outputs": [
    {
     "data": {
      "text/plain": [
       "{'vae': [(1,\n",
       "      Unnamed: 0  epoch    iwae-64      logpx       -kl\n",
       "   0           0      1 -35.315975 -35.314663  0.001312\n",
       "   1           1      2 -31.231741 -31.231688  0.000053)],\n",
       " 'iwae': [(1,\n",
       "      Unnamed: 0  epoch    iwae-64      logpx       -kl\n",
       "   0           0      1 -38.933610 -38.945226 -0.011616\n",
       "   1           1      2 -34.351565 -34.347382  0.004183)],\n",
       " 'ciwae-05': [(1,\n",
       "      Unnamed: 0  epoch    iwae-64      logpx       -kl\n",
       "   0           0      1 -35.040693 -35.041270 -0.000577\n",
       "   1           1      2 -31.065533 -31.064138  0.001394)],\n",
       " 'miwae-8-8': [(1,\n",
       "      Unnamed: 0  epoch    iwae-64      logpx       -kl\n",
       "   0           0      1 -35.414847 -35.417075 -0.002228\n",
       "   1           1      2 -31.516740 -31.520922 -0.004182)],\n",
       " 'piwae-8-8': [(1,\n",
       "      Unnamed: 0  epoch    iwae-64      logpx       -kl\n",
       "   0           0      1 -36.546453 -36.553201 -0.006748\n",
       "   1           1      2 -32.165061 -32.167095 -0.002034)]}"
      ]
     },
     "execution_count": 17,
     "metadata": {},
     "output_type": "execute_result"
    }
   ],
   "source": [
    "mnist_train_data.load_all_results()"
   ]
  },
  {
   "cell_type": "code",
   "execution_count": 18,
   "id": "94857cf3",
   "metadata": {},
   "outputs": [],
   "source": [
    "def plot_metric(ress: dict, col: str, ax):\n",
    "    lines = []\n",
    "    for loss in ress.keys():\n",
    "        table = ress[loss][0][1]\n",
    "        epochs = table['epoch']\n",
    "        metric = table[col]\n",
    "        line, = ax.plot(epochs, metric, label=loss)\n",
    "        lines.append(line)\n",
    "    ax.legend(handles=lines)"
   ]
  },
  {
   "cell_type": "code",
   "execution_count": 19,
   "id": "3f5483e6",
   "metadata": {
    "scrolled": true
   },
   "outputs": [
    {
     "data": {
      "image/png": "[encoded data removed]",
      "text/plain": [
       "<Figure size 432x288 with 1 Axes>"
      ]
     },
     "metadata": {
      "needs_background": "light"
     },
     "output_type": "display_data"
    }
   ],
   "source": [
    "fig, ax = plt.subplots()\n",
    "plot_metric(mnist_train_data.load_all_results(), 'logpx', ax)"
   ]
  },
  {
   "cell_type": "code",
   "execution_count": null,
   "id": "db7ca8ed",
   "metadata": {},
   "outputs": [],
   "source": []
  }
 ],
 "metadata": {
  "kernelspec": {
   "display_name": "Python 3 (ipykernel)",
   "language": "python",
   "name": "python3"
  },
  "language_info": {
   "codemirror_mode": {
    "name": "ipython",
    "version": 3
   },
   "file_extension": ".py",
   "mimetype": "text/x-python",
   "name": "python",
   "nbconvert_exporter": "python",
   "pygments_lexer": "ipython3",
   "version": "3.9.7"
  }
 },
 "nbformat": 4,
 "nbformat_minor": 5
}
